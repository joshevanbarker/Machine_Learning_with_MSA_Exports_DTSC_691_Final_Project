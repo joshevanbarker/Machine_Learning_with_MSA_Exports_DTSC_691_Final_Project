{
 "cells": [
  {
   "cell_type": "markdown",
   "id": "d7912389-998f-4ecc-ac79-8a84a702ac48",
   "metadata": {},
   "source": [
    "# Export Capstone Project: Data Cleaning and Preparation\n",
    "#### Josh Barker\n",
    "#### DTSC 691: Data Science Capstone: Applied Data Science\n",
    "#### Eastern University\n",
    "#### Spring 2025"
   ]
  },
  {
   "cell_type": "markdown",
   "id": "c29bcb00-bb86-4013-aaac-dcfdc4236c91",
   "metadata": {},
   "source": [
    "## Data Cleaning and Preparation Notebook Overview\n",
    "We have already pulled together data from a variety of different sources into a single dataframe. Now, we need to prepare it to use to train our machine learning models. \n",
    "\n",
    "In this notebook, we will:\n",
    "* Import the `metro_exports_joined.csv` file created from merged dataframes in the Data Import and Merge notebook.\n",
    "* Systematically analyze values in each variable, replacing null placeholders with null, removing text and non-numerical characters from variables that should include only numbers, and removing irrelevant text.\n",
    "* Identifying null values and filling them or dropping rows.\n",
    "* Conduct Feature Engineering\n",
    "\n",
    "### Import Necessary Libraries\n",
    "Below are all the libraries needed to run this notebook:"
   ]
  },
  {
   "cell_type": "code",
   "execution_count": 1,
   "id": "a6f73389-cbbb-4d0e-8b30-d9852e27307d",
   "metadata": {},
   "outputs": [],
   "source": [
    "import numpy as np\n",
    "import pandas as pd"
   ]
  },
  {
   "cell_type": "markdown",
   "id": "d17bafc6-d319-4f13-9dd5-34387edd946b",
   "metadata": {},
   "source": [
    "## Import Data\n",
    "Below, we will import the final merged dataframe from the last notebook and take a look at some of the summary statistics."
   ]
  },
  {
   "cell_type": "code",
   "execution_count": 2,
   "id": "437dbaac-2045-4296-9b98-85e01142f1b9",
   "metadata": {},
   "outputs": [],
   "source": [
    "metro_exports_all = pd.read_csv(\"metro_exports_joined.csv\")"
   ]
  },
  {
   "cell_type": "code",
   "execution_count": 3,
   "id": "6d5ce86c-a827-4ad6-bcab-7d432d7a40c7",
   "metadata": {},
   "outputs": [
    {
     "data": {
      "text/html": [
       "<div>\n",
       "<style scoped>\n",
       "    .dataframe tbody tr th:only-of-type {\n",
       "        vertical-align: middle;\n",
       "    }\n",
       "\n",
       "    .dataframe tbody tr th {\n",
       "        vertical-align: top;\n",
       "    }\n",
       "\n",
       "    .dataframe thead th {\n",
       "        text-align: right;\n",
       "    }\n",
       "</style>\n",
       "<table border=\"1\" class=\"dataframe\">\n",
       "  <thead>\n",
       "    <tr style=\"text-align: right;\">\n",
       "      <th></th>\n",
       "      <th>Year</th>\n",
       "      <th>exports</th>\n",
       "      <th>Per_Capita_Income</th>\n",
       "      <th>Personal_Income</th>\n",
       "      <th>Population</th>\n",
       "      <th>FHFA_index_Q1</th>\n",
       "      <th>FHFA_index_Q2</th>\n",
       "      <th>FHFA_index_Q3</th>\n",
       "      <th>FHFA_index_Q4</th>\n",
       "      <th>Employment</th>\n",
       "      <th>...</th>\n",
       "      <th>Policy_Anti-Price_Gouging</th>\n",
       "      <th>Minimum_Wage</th>\n",
       "      <th>USD_to_Euro</th>\n",
       "      <th>USD_to_Pound</th>\n",
       "      <th>USD_to_Peso</th>\n",
       "      <th>USD_to_Yuan</th>\n",
       "      <th>USD_to_Yen</th>\n",
       "      <th>S&amp;P500_Average</th>\n",
       "      <th>S&amp;P500_Close</th>\n",
       "      <th>DJIA_close</th>\n",
       "    </tr>\n",
       "  </thead>\n",
       "  <tbody>\n",
       "    <tr>\n",
       "      <th>count</th>\n",
       "      <td>7227.000000</td>\n",
       "      <td>7.227000e+03</td>\n",
       "      <td>6990.000000</td>\n",
       "      <td>6.990000e+03</td>\n",
       "      <td>6.990000e+03</td>\n",
       "      <td>6964.000000</td>\n",
       "      <td>6964.000000</td>\n",
       "      <td>6964.000000</td>\n",
       "      <td>6962.000000</td>\n",
       "      <td>6.914000e+03</td>\n",
       "      <td>...</td>\n",
       "      <td>6677.000000</td>\n",
       "      <td>7186.000000</td>\n",
       "      <td>7227.000000</td>\n",
       "      <td>7227.000000</td>\n",
       "      <td>7227.000000</td>\n",
       "      <td>7227.000000</td>\n",
       "      <td>7227.000000</td>\n",
       "      <td>7227.000000</td>\n",
       "      <td>7227.000000</td>\n",
       "      <td>7227.000000</td>\n",
       "    </tr>\n",
       "    <tr>\n",
       "      <th>mean</th>\n",
       "      <td>2014.091739</td>\n",
       "      <td>3.875634e+09</td>\n",
       "      <td>43889.905436</td>\n",
       "      <td>3.755277e+07</td>\n",
       "      <td>7.342722e+05</td>\n",
       "      <td>202.813287</td>\n",
       "      <td>206.065566</td>\n",
       "      <td>208.695803</td>\n",
       "      <td>210.033864</td>\n",
       "      <td>3.477238e+05</td>\n",
       "      <td>...</td>\n",
       "      <td>0.833009</td>\n",
       "      <td>7.777581</td>\n",
       "      <td>0.818160</td>\n",
       "      <td>0.672866</td>\n",
       "      <td>15.495438</td>\n",
       "      <td>6.824843</td>\n",
       "      <td>107.582682</td>\n",
       "      <td>2229.019188</td>\n",
       "      <td>2332.020224</td>\n",
       "      <td>20055.573772</td>\n",
       "    </tr>\n",
       "    <tr>\n",
       "      <th>std</th>\n",
       "      <td>5.459234</td>\n",
       "      <td>1.318929e+10</td>\n",
       "      <td>12718.371514</td>\n",
       "      <td>1.002129e+08</td>\n",
       "      <td>1.629250e+06</td>\n",
       "      <td>60.286520</td>\n",
       "      <td>64.307191</td>\n",
       "      <td>66.334523</td>\n",
       "      <td>66.933069</td>\n",
       "      <td>7.788781e+05</td>\n",
       "      <td>...</td>\n",
       "      <td>0.366923</td>\n",
       "      <td>1.912532</td>\n",
       "      <td>0.078972</td>\n",
       "      <td>0.095538</td>\n",
       "      <td>3.673540</td>\n",
       "      <td>0.545271</td>\n",
       "      <td>14.951963</td>\n",
       "      <td>1091.079358</td>\n",
       "      <td>1196.823599</td>\n",
       "      <td>9107.245223</td>\n",
       "    </tr>\n",
       "    <tr>\n",
       "      <th>min</th>\n",
       "      <td>2005.000000</td>\n",
       "      <td>2.475126e+06</td>\n",
       "      <td>18066.000000</td>\n",
       "      <td>1.367137e+06</td>\n",
       "      <td>5.460000e+04</td>\n",
       "      <td>100.220000</td>\n",
       "      <td>100.790000</td>\n",
       "      <td>101.420000</td>\n",
       "      <td>101.330000</td>\n",
       "      <td>1.720500e+04</td>\n",
       "      <td>...</td>\n",
       "      <td>0.000000</td>\n",
       "      <td>2.650000</td>\n",
       "      <td>0.683075</td>\n",
       "      <td>0.499806</td>\n",
       "      <td>10.892538</td>\n",
       "      <td>6.152292</td>\n",
       "      <td>79.829741</td>\n",
       "      <td>969.183333</td>\n",
       "      <td>825.900000</td>\n",
       "      <td>8776.390000</td>\n",
       "    </tr>\n",
       "    <tr>\n",
       "      <th>25%</th>\n",
       "      <td>2009.000000</td>\n",
       "      <td>2.165360e+08</td>\n",
       "      <td>35276.500000</td>\n",
       "      <td>5.641341e+06</td>\n",
       "      <td>1.472740e+05</td>\n",
       "      <td>161.307500</td>\n",
       "      <td>162.017500</td>\n",
       "      <td>163.137500</td>\n",
       "      <td>163.745000</td>\n",
       "      <td>6.530250e+04</td>\n",
       "      <td>...</td>\n",
       "      <td>1.000000</td>\n",
       "      <td>7.250000</td>\n",
       "      <td>0.753045</td>\n",
       "      <td>0.607353</td>\n",
       "      <td>12.429192</td>\n",
       "      <td>6.451678</td>\n",
       "      <td>97.589811</td>\n",
       "      <td>1282.941667</td>\n",
       "      <td>1312.400000</td>\n",
       "      <td>12217.560000</td>\n",
       "    </tr>\n",
       "    <tr>\n",
       "      <th>50%</th>\n",
       "      <td>2014.000000</td>\n",
       "      <td>6.106792e+08</td>\n",
       "      <td>41361.500000</td>\n",
       "      <td>1.064398e+07</td>\n",
       "      <td>2.520900e+05</td>\n",
       "      <td>184.570000</td>\n",
       "      <td>185.995000</td>\n",
       "      <td>187.435000</td>\n",
       "      <td>188.495000</td>\n",
       "      <td>1.174230e+05</td>\n",
       "      <td>...</td>\n",
       "      <td>1.000000</td>\n",
       "      <td>7.250000</td>\n",
       "      <td>0.803857</td>\n",
       "      <td>0.647491</td>\n",
       "      <td>13.502932</td>\n",
       "      <td>6.756806</td>\n",
       "      <td>109.007953</td>\n",
       "      <td>1962.114167</td>\n",
       "      <td>1940.240000</td>\n",
       "      <td>17425.030000</td>\n",
       "    </tr>\n",
       "    <tr>\n",
       "      <th>75%</th>\n",
       "      <td>2019.000000</td>\n",
       "      <td>2.054501e+09</td>\n",
       "      <td>49742.750000</td>\n",
       "      <td>2.581210e+07</td>\n",
       "      <td>5.974598e+05</td>\n",
       "      <td>227.297500</td>\n",
       "      <td>231.465000</td>\n",
       "      <td>234.877500</td>\n",
       "      <td>236.900000</td>\n",
       "      <td>2.708250e+05</td>\n",
       "      <td>...</td>\n",
       "      <td>1.000000</td>\n",
       "      <td>8.100000</td>\n",
       "      <td>0.892882</td>\n",
       "      <td>0.776691</td>\n",
       "      <td>19.227887</td>\n",
       "      <td>6.952764</td>\n",
       "      <td>116.321732</td>\n",
       "      <td>2981.413333</td>\n",
       "      <td>3225.520000</td>\n",
       "      <td>28538.440000</td>\n",
       "    </tr>\n",
       "    <tr>\n",
       "      <th>max</th>\n",
       "      <td>2023.000000</td>\n",
       "      <td>2.335502e+11</td>\n",
       "      <td>148036.000000</td>\n",
       "      <td>1.788676e+09</td>\n",
       "      <td>2.013311e+07</td>\n",
       "      <td>565.230000</td>\n",
       "      <td>573.280000</td>\n",
       "      <td>569.170000</td>\n",
       "      <td>567.440000</td>\n",
       "      <td>9.653313e+06</td>\n",
       "      <td>...</td>\n",
       "      <td>1.000000</td>\n",
       "      <td>15.740000</td>\n",
       "      <td>0.951098</td>\n",
       "      <td>0.811347</td>\n",
       "      <td>21.466170</td>\n",
       "      <td>8.194950</td>\n",
       "      <td>140.510745</td>\n",
       "      <td>4386.741667</td>\n",
       "      <td>4845.650000</td>\n",
       "      <td>37689.540000</td>\n",
       "    </tr>\n",
       "  </tbody>\n",
       "</table>\n",
       "<p>8 rows × 64 columns</p>\n",
       "</div>"
      ],
      "text/plain": [
       "              Year       exports  Per_Capita_Income  Personal_Income  \\\n",
       "count  7227.000000  7.227000e+03        6990.000000     6.990000e+03   \n",
       "mean   2014.091739  3.875634e+09       43889.905436     3.755277e+07   \n",
       "std       5.459234  1.318929e+10       12718.371514     1.002129e+08   \n",
       "min    2005.000000  2.475126e+06       18066.000000     1.367137e+06   \n",
       "25%    2009.000000  2.165360e+08       35276.500000     5.641341e+06   \n",
       "50%    2014.000000  6.106792e+08       41361.500000     1.064398e+07   \n",
       "75%    2019.000000  2.054501e+09       49742.750000     2.581210e+07   \n",
       "max    2023.000000  2.335502e+11      148036.000000     1.788676e+09   \n",
       "\n",
       "         Population  FHFA_index_Q1  FHFA_index_Q2  FHFA_index_Q3  \\\n",
       "count  6.990000e+03    6964.000000    6964.000000    6964.000000   \n",
       "mean   7.342722e+05     202.813287     206.065566     208.695803   \n",
       "std    1.629250e+06      60.286520      64.307191      66.334523   \n",
       "min    5.460000e+04     100.220000     100.790000     101.420000   \n",
       "25%    1.472740e+05     161.307500     162.017500     163.137500   \n",
       "50%    2.520900e+05     184.570000     185.995000     187.435000   \n",
       "75%    5.974598e+05     227.297500     231.465000     234.877500   \n",
       "max    2.013311e+07     565.230000     573.280000     569.170000   \n",
       "\n",
       "       FHFA_index_Q4    Employment  ...  Policy_Anti-Price_Gouging  \\\n",
       "count    6962.000000  6.914000e+03  ...                6677.000000   \n",
       "mean      210.033864  3.477238e+05  ...                   0.833009   \n",
       "std        66.933069  7.788781e+05  ...                   0.366923   \n",
       "min       101.330000  1.720500e+04  ...                   0.000000   \n",
       "25%       163.745000  6.530250e+04  ...                   1.000000   \n",
       "50%       188.495000  1.174230e+05  ...                   1.000000   \n",
       "75%       236.900000  2.708250e+05  ...                   1.000000   \n",
       "max       567.440000  9.653313e+06  ...                   1.000000   \n",
       "\n",
       "       Minimum_Wage  USD_to_Euro  USD_to_Pound  USD_to_Peso  USD_to_Yuan  \\\n",
       "count   7186.000000  7227.000000   7227.000000  7227.000000  7227.000000   \n",
       "mean       7.777581     0.818160      0.672866    15.495438     6.824843   \n",
       "std        1.912532     0.078972      0.095538     3.673540     0.545271   \n",
       "min        2.650000     0.683075      0.499806    10.892538     6.152292   \n",
       "25%        7.250000     0.753045      0.607353    12.429192     6.451678   \n",
       "50%        7.250000     0.803857      0.647491    13.502932     6.756806   \n",
       "75%        8.100000     0.892882      0.776691    19.227887     6.952764   \n",
       "max       15.740000     0.951098      0.811347    21.466170     8.194950   \n",
       "\n",
       "        USD_to_Yen  S&P500_Average  S&P500_Close    DJIA_close  \n",
       "count  7227.000000     7227.000000   7227.000000   7227.000000  \n",
       "mean    107.582682     2229.019188   2332.020224  20055.573772  \n",
       "std      14.951963     1091.079358   1196.823599   9107.245223  \n",
       "min      79.829741      969.183333    825.900000   8776.390000  \n",
       "25%      97.589811     1282.941667   1312.400000  12217.560000  \n",
       "50%     109.007953     1962.114167   1940.240000  17425.030000  \n",
       "75%     116.321732     2981.413333   3225.520000  28538.440000  \n",
       "max     140.510745     4386.741667   4845.650000  37689.540000  \n",
       "\n",
       "[8 rows x 64 columns]"
      ]
     },
     "execution_count": 3,
     "metadata": {},
     "output_type": "execute_result"
    }
   ],
   "source": [
    "metro_exports_all.describe()"
   ]
  },
  {
   "cell_type": "code",
   "execution_count": 4,
   "id": "b390930d-448f-4f45-8d63-a6ce68001085",
   "metadata": {},
   "outputs": [
    {
     "name": "stdout",
     "output_type": "stream",
     "text": [
      "<class 'pandas.core.frame.DataFrame'>\n",
      "RangeIndex: 7227 entries, 0 to 7226\n",
      "Data columns (total 65 columns):\n",
      " #   Column                         Non-Null Count  Dtype  \n",
      "---  ------                         --------------  -----  \n",
      " 0   MSA                            7227 non-null   object \n",
      " 1   Year                           7227 non-null   int64  \n",
      " 2   exports                        7227 non-null   float64\n",
      " 3   Per_Capita_Income              6990 non-null   float64\n",
      " 4   Personal_Income                6990 non-null   float64\n",
      " 5   Population                     6990 non-null   float64\n",
      " 6   FHFA_index_Q1                  6964 non-null   float64\n",
      " 7   FHFA_index_Q2                  6964 non-null   float64\n",
      " 8   FHFA_index_Q3                  6964 non-null   float64\n",
      " 9   FHFA_index_Q4                  6962 non-null   float64\n",
      " 10  Employment                     6914 non-null   float64\n",
      " 11  Labor_Force                    6914 non-null   float64\n",
      " 12  Unemployment_Rate              6914 non-null   float64\n",
      " 13  Unemployment_Raw               6914 non-null   float64\n",
      " 14  Manufacturing_Employment       5962 non-null   float64\n",
      " 15  Jan_avg_temp                   6988 non-null   float64\n",
      " 16  Feb_avg_temp                   6988 non-null   float64\n",
      " 17  Mar_avg_temp                   6988 non-null   float64\n",
      " 18  Apr_avg_temp                   6988 non-null   float64\n",
      " 19  May_avg_temp                   6988 non-null   float64\n",
      " 20  Jun_avg_temp                   6988 non-null   float64\n",
      " 21  Jul_avg_temp                   6988 non-null   float64\n",
      " 22  Aug_avg_temp                   6988 non-null   float64\n",
      " 23  Sep_avg_temp                   6988 non-null   float64\n",
      " 24  Oct_avg_temp                   6988 non-null   float64\n",
      " 25  Nov_avg_temp                   6988 non-null   float64\n",
      " 26  Dec_avg_temp                   6988 non-null   float64\n",
      " 27  Jan_cooling                    6988 non-null   float64\n",
      " 28  Feb_cooling                    6988 non-null   float64\n",
      " 29  Mar_cooling                    6988 non-null   float64\n",
      " 30  Apr_cooling                    6988 non-null   float64\n",
      " 31  May_cooling                    6988 non-null   float64\n",
      " 32  Jun_cooling                    6988 non-null   float64\n",
      " 33  Jul_cooling                    6988 non-null   float64\n",
      " 34  Aug_cooling                    6988 non-null   float64\n",
      " 35  Sep_cooling                    6988 non-null   float64\n",
      " 36  Oct_cooling                    6988 non-null   float64\n",
      " 37  Nov_cooling                    6988 non-null   float64\n",
      " 38  Dec_cooling                    6988 non-null   float64\n",
      " 39  Jan_heating                    6988 non-null   float64\n",
      " 40  Feb_heating                    6988 non-null   float64\n",
      " 41  Mar_heating                    6988 non-null   float64\n",
      " 42  Apr_heating                    6988 non-null   float64\n",
      " 43  May_heating                    6988 non-null   float64\n",
      " 44  Jun_heating                    6988 non-null   float64\n",
      " 45  Jul_heating                    6988 non-null   float64\n",
      " 46  Aug_heating                    6988 non-null   float64\n",
      " 47  Sep_heating                    6988 non-null   float64\n",
      " 48  Oct_heating                    6988 non-null   float64\n",
      " 49  Nov_heating                    6988 non-null   float64\n",
      " 50  Dec_heating                    6988 non-null   float64\n",
      " 51  Top_Corporate_Income_Tax_Rate  6681 non-null   float64\n",
      " 52  Policy_Right-to-Work           6677 non-null   float64\n",
      " 53  Policy_Urban_Growth_Boundary   6677 non-null   float64\n",
      " 54  Policy_Pricing_Strategy_Ban    6677 non-null   float64\n",
      " 55  Policy_Anti-Price_Gouging      6677 non-null   float64\n",
      " 56  Minimum_Wage                   7186 non-null   float64\n",
      " 57  USD_to_Euro                    7227 non-null   float64\n",
      " 58  USD_to_Pound                   7227 non-null   float64\n",
      " 59  USD_to_Peso                    7227 non-null   float64\n",
      " 60  USD_to_Yuan                    7227 non-null   float64\n",
      " 61  USD_to_Yen                     7227 non-null   float64\n",
      " 62  S&P500_Average                 7227 non-null   float64\n",
      " 63  S&P500_Close                   7227 non-null   float64\n",
      " 64  DJIA_close                     7227 non-null   float64\n",
      "dtypes: float64(63), int64(1), object(1)\n",
      "memory usage: 3.6+ MB\n"
     ]
    }
   ],
   "source": [
    "metro_exports_all.info()"
   ]
  },
  {
   "cell_type": "markdown",
   "id": "0fc0e8f0-5dd9-4705-8f25-3a9588398bb9",
   "metadata": {},
   "source": [
    "### Verify Nulls\n",
    "Let's start by verifying that the null values that we see are not due to issues in joining tables. Some rows would be expected to have null values, due to missing data, for instance. \n",
    "\n",
    "First, we can see from the summary above the all our MSAs, years, exports, and nationwide variables (exchange rates, S&P, and Dow) have no missing values. \n",
    "\n",
    "Next, we see our BEA data has 237 null rows. What makes up these rows?"
   ]
  },
  {
   "cell_type": "code",
   "execution_count": 5,
   "id": "85d42930-61d6-4629-ac70-745fe29dd68a",
   "metadata": {},
   "outputs": [
    {
     "data": {
      "text/plain": [
       "array(['Aguadilla, PR', 'Anderson, IN', 'Anderson, SC', 'Arecibo, PR',\n",
       "       'Danville, VA', 'Fajardo, PR', 'Guayama, PR',\n",
       "       'Holland-Grand Haven, MI', 'Mayaguez, PR', 'Palm Coast, FL',\n",
       "       'Pascagoula, MS', 'Ponce, PR', 'San German, PR',\n",
       "       'San Juan-Bayamon-Caguas, PR', 'Sandusky, OH', 'Yauco, PR',\n",
       "       'Z-Non Metropolitan Areas', 'Z-Other Metropolitan Areas',\n",
       "       'Z-Unknown'], dtype=object)"
      ]
     },
     "execution_count": 5,
     "metadata": {},
     "output_type": "execute_result"
    }
   ],
   "source": [
    "metro_exports_all[metro_exports_all[\"Personal_Income\"].isnull()][\"MSA\"].unique()"
   ]
  },
  {
   "cell_type": "markdown",
   "id": "3f5b74c0-6b13-4319-b0c0-f02a53f234f1",
   "metadata": {},
   "source": [
    "Of the 34 MSA values without BEA variables, 4 are the ITA's miscellaneous areas, all beginning with `Z-` that would not correspond to an actual MSA or an area for which the BEA estimates these variables. 9 are for MSAs in Puerto Rico, for which the BEA does not maintain records. The remaining metro areas are too small for the BEA to collect metro-area-level metrics. \n",
    "\n",
    "We know that the 4 miscellaneous areas and Puerto Rico will not have data for most of the sources, so we will drop these rows. "
   ]
  },
  {
   "cell_type": "code",
   "execution_count": 6,
   "id": "c0b59247-1e23-4bd9-b148-a8097f3f63ba",
   "metadata": {},
   "outputs": [],
   "source": [
    "metro_exports_all = metro_exports_all[~metro_exports_all[\"MSA\"].str.contains(\"Z-\")]\n",
    "metro_exports_all = metro_exports_all[~metro_exports_all[\"MSA\"].str.contains(\", PR\")]"
   ]
  },
  {
   "cell_type": "markdown",
   "id": "0c63389f-1ab7-48f2-8f28-84ebab5df741",
   "metadata": {},
   "source": [
    "Now, let's review the new row counts and null-values"
   ]
  },
  {
   "cell_type": "code",
   "execution_count": 7,
   "id": "392e699d-fc11-443b-bcaf-b263a0ee0acd",
   "metadata": {},
   "outputs": [
    {
     "name": "stdout",
     "output_type": "stream",
     "text": [
      "<class 'pandas.core.frame.DataFrame'>\n",
      "Index: 7043 entries, 0 to 7185\n",
      "Data columns (total 65 columns):\n",
      " #   Column                         Non-Null Count  Dtype  \n",
      "---  ------                         --------------  -----  \n",
      " 0   MSA                            7043 non-null   object \n",
      " 1   Year                           7043 non-null   int64  \n",
      " 2   exports                        7043 non-null   float64\n",
      " 3   Per_Capita_Income              6990 non-null   float64\n",
      " 4   Personal_Income                6990 non-null   float64\n",
      " 5   Population                     6990 non-null   float64\n",
      " 6   FHFA_index_Q1                  6964 non-null   float64\n",
      " 7   FHFA_index_Q2                  6964 non-null   float64\n",
      " 8   FHFA_index_Q3                  6964 non-null   float64\n",
      " 9   FHFA_index_Q4                  6962 non-null   float64\n",
      " 10  Employment                     6816 non-null   float64\n",
      " 11  Labor_Force                    6816 non-null   float64\n",
      " 12  Unemployment_Rate              6816 non-null   float64\n",
      " 13  Unemployment_Raw               6816 non-null   float64\n",
      " 14  Manufacturing_Employment       5870 non-null   float64\n",
      " 15  Jan_avg_temp                   6988 non-null   float64\n",
      " 16  Feb_avg_temp                   6988 non-null   float64\n",
      " 17  Mar_avg_temp                   6988 non-null   float64\n",
      " 18  Apr_avg_temp                   6988 non-null   float64\n",
      " 19  May_avg_temp                   6988 non-null   float64\n",
      " 20  Jun_avg_temp                   6988 non-null   float64\n",
      " 21  Jul_avg_temp                   6988 non-null   float64\n",
      " 22  Aug_avg_temp                   6988 non-null   float64\n",
      " 23  Sep_avg_temp                   6988 non-null   float64\n",
      " 24  Oct_avg_temp                   6988 non-null   float64\n",
      " 25  Nov_avg_temp                   6988 non-null   float64\n",
      " 26  Dec_avg_temp                   6988 non-null   float64\n",
      " 27  Jan_cooling                    6988 non-null   float64\n",
      " 28  Feb_cooling                    6988 non-null   float64\n",
      " 29  Mar_cooling                    6988 non-null   float64\n",
      " 30  Apr_cooling                    6988 non-null   float64\n",
      " 31  May_cooling                    6988 non-null   float64\n",
      " 32  Jun_cooling                    6988 non-null   float64\n",
      " 33  Jul_cooling                    6988 non-null   float64\n",
      " 34  Aug_cooling                    6988 non-null   float64\n",
      " 35  Sep_cooling                    6988 non-null   float64\n",
      " 36  Oct_cooling                    6988 non-null   float64\n",
      " 37  Nov_cooling                    6988 non-null   float64\n",
      " 38  Dec_cooling                    6988 non-null   float64\n",
      " 39  Jan_heating                    6988 non-null   float64\n",
      " 40  Feb_heating                    6988 non-null   float64\n",
      " 41  Mar_heating                    6988 non-null   float64\n",
      " 42  Apr_heating                    6988 non-null   float64\n",
      " 43  May_heating                    6988 non-null   float64\n",
      " 44  Jun_heating                    6988 non-null   float64\n",
      " 45  Jul_heating                    6988 non-null   float64\n",
      " 46  Aug_heating                    6988 non-null   float64\n",
      " 47  Sep_heating                    6988 non-null   float64\n",
      " 48  Oct_heating                    6988 non-null   float64\n",
      " 49  Nov_heating                    6988 non-null   float64\n",
      " 50  Dec_heating                    6988 non-null   float64\n",
      " 51  Top_Corporate_Income_Tax_Rate  6681 non-null   float64\n",
      " 52  Policy_Right-to-Work           6677 non-null   float64\n",
      " 53  Policy_Urban_Growth_Boundary   6677 non-null   float64\n",
      " 54  Policy_Pricing_Strategy_Ban    6677 non-null   float64\n",
      " 55  Policy_Anti-Price_Gouging      6677 non-null   float64\n",
      " 56  Minimum_Wage                   7043 non-null   float64\n",
      " 57  USD_to_Euro                    7043 non-null   float64\n",
      " 58  USD_to_Pound                   7043 non-null   float64\n",
      " 59  USD_to_Peso                    7043 non-null   float64\n",
      " 60  USD_to_Yuan                    7043 non-null   float64\n",
      " 61  USD_to_Yen                     7043 non-null   float64\n",
      " 62  S&P500_Average                 7043 non-null   float64\n",
      " 63  S&P500_Close                   7043 non-null   float64\n",
      " 64  DJIA_close                     7043 non-null   float64\n",
      "dtypes: float64(63), int64(1), object(1)\n",
      "memory usage: 3.5+ MB\n"
     ]
    }
   ],
   "source": [
    "metro_exports_all.info()"
   ]
  },
  {
   "cell_type": "code",
   "execution_count": 8,
   "id": "10c90143-08a4-41ed-a5af-203c67fea0c4",
   "metadata": {},
   "outputs": [
    {
     "data": {
      "text/plain": [
       "array(['Anderson, IN', 'Anderson, SC', 'Danville, VA',\n",
       "       'Holland-Grand Haven, MI', 'Palm Coast, FL', 'Pascagoula, MS',\n",
       "       'Sandusky, OH'], dtype=object)"
      ]
     },
     "execution_count": 8,
     "metadata": {},
     "output_type": "execute_result"
    }
   ],
   "source": [
    "metro_exports_all[metro_exports_all[\"Per_Capita_Income\"].isnull()][\"MSA\"].unique()"
   ]
  },
  {
   "cell_type": "markdown",
   "id": "b14c1199-7448-4f16-8513-e93f43797978",
   "metadata": {},
   "source": [
    "In examining the remaining 7 MSAs lacking BEA data, we can see that the BEA does not produce statistics for these areas, so the missing data is accurate. \n",
    "\n",
    "Now, turning to the FHFA data, we can see that we're missing 60 values in Q1 and 62 in Q4. When it comes to unique MSAs missing, there are \n",
    "7 in Q1 and 9 in Q4. Other than Sandusky, OH, which the FHFA discontinued in 2013, the other 6 in Q1 were never collected by the FHFA. We can see that the 2 MSAs that show up in Q4 but not Q1 are only missing a single value--2022 Q4. "
   ]
  },
  {
   "cell_type": "code",
   "execution_count": 9,
   "id": "b0851d3a-a5f4-455b-8389-c653b39ca316",
   "metadata": {},
   "outputs": [
    {
     "data": {
      "text/plain": [
       "array(['Beckley, WV', 'California-Lexington Park, MD', 'Chambersburg, PA',\n",
       "       'Homosassa Springs, FL', 'Kahului-Wailuku, HI', 'Sandusky, OH',\n",
       "       'Twin Falls, ID', 'Urban Honolulu, HI'], dtype=object)"
      ]
     },
     "execution_count": 9,
     "metadata": {},
     "output_type": "execute_result"
    }
   ],
   "source": [
    "metro_exports_all[metro_exports_all[\"FHFA_index_Q1\"].isnull()][\"MSA\"].unique()"
   ]
  },
  {
   "cell_type": "code",
   "execution_count": 10,
   "id": "4468e479-d490-4954-a4bd-9451bce62916",
   "metadata": {},
   "outputs": [
    {
     "data": {
      "text/plain": [
       "array(['Beckley, WV', 'California-Lexington Park, MD', 'Chambersburg, PA',\n",
       "       'Homosassa Springs, FL', 'Ithaca, NY', 'Kahului-Wailuku, HI',\n",
       "       'Pine Bluff, AR', 'Sandusky, OH', 'Twin Falls, ID',\n",
       "       'Urban Honolulu, HI'], dtype=object)"
      ]
     },
     "execution_count": 10,
     "metadata": {},
     "output_type": "execute_result"
    }
   ],
   "source": [
    "metro_exports_all[metro_exports_all[\"FHFA_index_Q4\"].isnull()][\"MSA\"].unique()"
   ]
  },
  {
   "cell_type": "code",
   "execution_count": 11,
   "id": "88dbaf68-dfe3-4c83-b54b-c00c7d00e495",
   "metadata": {},
   "outputs": [
    {
     "name": "stderr",
     "output_type": "stream",
     "text": [
      "/var/folders/4q/x_jqg_s12kb4ktm3ts1823jr0000gn/T/ipykernel_2993/515536280.py:1: UserWarning: Boolean Series key will be reindexed to match DataFrame index.\n",
      "  metro_exports_all[(metro_exports_all[\"MSA\"] == \"Pine Bluff, AR\") | (metro_exports_all[\"MSA\"] == \"Ithaca, NY\")][metro_exports_all[\"FHFA_index_Q4\"].isnull()][\"Year\"].unique()\n"
     ]
    },
    {
     "data": {
      "text/plain": [
       "array([2022])"
      ]
     },
     "execution_count": 11,
     "metadata": {},
     "output_type": "execute_result"
    }
   ],
   "source": [
    "metro_exports_all[(metro_exports_all[\"MSA\"] == \"Pine Bluff, AR\") | (metro_exports_all[\"MSA\"] == \"Ithaca, NY\")][metro_exports_all[\"FHFA_index_Q4\"].isnull()][\"Year\"].unique()"
   ]
  },
  {
   "cell_type": "markdown",
   "id": "3b7199e2-766d-4dc8-9154-1b11d5b917f9",
   "metadata": {},
   "source": [
    "We can fill in the single missing values with the value of the quarter preceding it."
   ]
  },
  {
   "cell_type": "code",
   "execution_count": 12,
   "id": "e7b241bd-ad4b-420e-9f2b-69de81482d95",
   "metadata": {},
   "outputs": [],
   "source": [
    "#metro_exports_all[metro_exports_all[\"MSA\"] == \"Pine Bluff, AR\"][metro_exports_all[\"Year\"] == 2022][\"FHFA_index_Q4\"] = (metro_exports_all[metro_exports_all[\"MSA\"] == \"Pine Bluff, AR\"][metro_exports_all[\"Year\"] == 2021].iloc[:,9:10].sum(axis = 1).values + metro_exports_all[metro_exports_all[\"MSA\"] == \"Pine Bluff, AR\"][metro_exports_all[\"Year\"] == 2022].iloc[:,6:9].sum(axis = 1).values)/4"
   ]
  },
  {
   "cell_type": "code",
   "execution_count": 13,
   "id": "95930351-86ee-4031-aeed-1f733c74e837",
   "metadata": {},
   "outputs": [],
   "source": [
    "metro_exports_all[\"FHFA_index_Q4\"] = metro_exports_all[\"FHFA_index_Q4\"].fillna(metro_exports_all[\"FHFA_index_Q3\"])"
   ]
  },
  {
   "cell_type": "markdown",
   "id": "a6b05f76-14a3-4d0a-be01-03d4ed0f0175",
   "metadata": {},
   "source": [
    "We can see that we have 246 null values for our BLS data. We will fill the null values for `Unemployment Rate` with national average unemployment rate for that year. It would be trickier to fill the other three BLS columns, which are mathematically related to the region's population. "
   ]
  },
  {
   "cell_type": "code",
   "execution_count": 14,
   "id": "7fa2d12f-a234-4177-9875-7257a5e6c628",
   "metadata": {},
   "outputs": [
    {
     "data": {
      "text/plain": [
       "np.int64(227)"
      ]
     },
     "execution_count": 14,
     "metadata": {},
     "output_type": "execute_result"
    }
   ],
   "source": [
    "metro_exports_all[\"Employment\"].isnull().sum()"
   ]
  },
  {
   "cell_type": "code",
   "execution_count": 15,
   "id": "34363e2a-e1eb-448c-9e4d-bc622eb95f3f",
   "metadata": {},
   "outputs": [
    {
     "data": {
      "text/plain": [
       "MSA\n",
       "Anderson, IN                             8\n",
       "Anderson, SC                             8\n",
       "Bloomsburg-Berwick, PA                  10\n",
       "California-Lexington Park, MD           10\n",
       "Carbondale-Marion, IL                   10\n",
       "Cumberland, MD-WV                       18\n",
       "Danville, IL                            18\n",
       "Danville, VA                             8\n",
       "East Stroudsburg, PA                    10\n",
       "Holland-Grand Haven, MI                  8\n",
       "Louisville/Jefferson County, KY-IN      19\n",
       "Madera, CA                              18\n",
       "New Bern, NC                            10\n",
       "New Orleans-Metairie, LA                 2\n",
       "Ocean City, NJ                          17\n",
       "Palm Coast, FL                           7\n",
       "Pascagoula, MS                           5\n",
       "Pine Bluff, AR                          18\n",
       "Poughkeepsie-Newburgh-Middletown, NY    13\n",
       "The Villages, FL                        10\n",
       "Name: Employment, dtype: int64"
      ]
     },
     "execution_count": 15,
     "metadata": {},
     "output_type": "execute_result"
    }
   ],
   "source": [
    "bls_null = metro_exports_all.groupby(\"MSA\")[\"Employment\"].agg(lambda x: x.isnull().sum())\n",
    "bls_null[bls_null > 0]"
   ]
  },
  {
   "cell_type": "code",
   "execution_count": 16,
   "id": "76105dd3-d259-40ff-b491-785153bbf38d",
   "metadata": {},
   "outputs": [
    {
     "name": "stderr",
     "output_type": "stream",
     "text": [
      "/Library/Frameworks/Python.framework/Versions/3.12/lib/python3.12/site-packages/openpyxl/styles/stylesheet.py:237: UserWarning: Workbook contains no default style, apply openpyxl's default\n",
      "  warn(\"Workbook contains no default style, apply openpyxl's default\")\n"
     ]
    },
    {
     "data": {
      "text/plain": [
       "Year\n",
       "2000    4.0\n",
       "2001    4.7\n",
       "2002    5.8\n",
       "2003    6.0\n",
       "2004    5.5\n",
       "Name: Average, dtype: float64"
      ]
     },
     "execution_count": 16,
     "metadata": {},
     "output_type": "execute_result"
    }
   ],
   "source": [
    "bls_national_unemployment = pd.read_excel(\"data/bls_national_unemployment.xlsx\", skiprows = list(range(0, 11)))\n",
    "bls_national_unemployment = bls_national_unemployment.drop(\"Annual\", axis = 1)\n",
    "bls_national_unemployment = bls_national_unemployment.set_index(\"Year\")\n",
    "bls_national_unemployment[\"Average\"] = round(bls_national_unemployment.mean(axis = 1), 1)\n",
    "bls_avg_ue = bls_national_unemployment[\"Average\"]\n",
    "bls_avg_ue.head()"
   ]
  },
  {
   "cell_type": "code",
   "execution_count": 17,
   "id": "17b470cb-0494-4182-81af-4b22a98f2ab6",
   "metadata": {},
   "outputs": [],
   "source": [
    "metro_exports_all = metro_exports_all.set_index(\"Year\")\n",
    "metro_exports_all[\"Unemployment_Rate\"] = metro_exports_all[\"Unemployment_Rate\"].fillna(bls_avg_ue)\n",
    "metro_exports_all = metro_exports_all.reset_index()\n",
    "metro_exports_all = metro_exports_all.rename_axis(None, axis=1)"
   ]
  },
  {
   "cell_type": "markdown",
   "id": "aeb37c02-0f8a-4289-9c37-d939b8cca78f",
   "metadata": {},
   "source": [
    "Manufacturing Employment is another difficult column to fill missing values. However, because there are so many missing--some of which because there is too little manufacturing employment to report and some due to the BLS not reporting manufacturing employment data for those areas--we hesitate to drop all rows without it. Instead, we will conduct correlation analysis with and without it before deciding how to proceed."
   ]
  },
  {
   "cell_type": "code",
   "execution_count": 18,
   "id": "1347d181-40df-4a7a-8632-2947a94a96a9",
   "metadata": {},
   "outputs": [
    {
     "data": {
      "text/plain": [
       "array(['Albany, GA', 'Alexandria, LA', 'Ames, IA', 'Anderson, IN',\n",
       "       'Anderson, SC', 'Athens-Clarke County, GA', 'Bangor, ME',\n",
       "       'Barnstable Town, MA', 'Beckley, WV', 'Billings, MT',\n",
       "       'Blacksburg-Christiansburg-Radford, VA',\n",
       "       'Boston-Cambridge-Newton, MA-NH',\n",
       "       'Bridgeport-Stamford-Danbury, CT', 'Brunswick-St. Simons, GA',\n",
       "       'Burlington-South Burlington, VT', 'California-Lexington Park, MD',\n",
       "       'Cape Girardeau, MO-IL', 'Carbondale-Marion, IL', 'Columbia, MO',\n",
       "       'Cumberland, MD-WV', 'Danville, VA', 'Daphne-Fairhope-Foley, AL',\n",
       "       'Dubuque, IA', 'Enid, OK', 'Farmington, NM', 'Florence, SC',\n",
       "       'Gainesville, GA', 'Goldsboro, NC', 'Grand Island, NE',\n",
       "       'Great Falls, MT', 'Hammond, LA', 'Harrisonburg, VA',\n",
       "       'Hartford-West Hartford-East Hartford, CT',\n",
       "       'Hilton Head Island-Bluffton-Port Royal, SC', 'Hinesville, GA',\n",
       "       'Holland-Grand Haven, MI', 'Homosassa Springs, FL',\n",
       "       'Hot Springs, AR', 'Houma-Bayou Cane-Thibodaux, LA',\n",
       "       'Iowa City, IA', 'Jacksonville, NC', 'Jefferson City, MO',\n",
       "       'Jonesboro, AR', 'Lawrence, KS', 'Lewiston-Auburn, ME',\n",
       "       'Louisville/Jefferson County, KY-IN', 'Macon-Bibb County, GA',\n",
       "       'Manchester-Nashua, NH', 'Manhattan, KS', 'Mankato, MN',\n",
       "       'Midland, MI', 'Missoula, MT', 'New Bern, NC', 'New Haven, CT',\n",
       "       'Norwich-New London-Willimantic, CT', 'Ocean City, NJ',\n",
       "       'Palm Coast, FL', 'Pascagoula, MS', 'Pine Bluff, AR',\n",
       "       'Pittsfield, MA', 'Portland-South Portland, ME',\n",
       "       'Poughkeepsie-Newburgh-Middletown, NY',\n",
       "       'Prescott Valley-Prescott, AZ', 'Providence-Warwick, RI-MA',\n",
       "       'Sandusky, OH', 'Sebring, FL', 'Springfield, MA',\n",
       "       'St. Joseph, MO-KS', 'Staunton-Stuarts Draft, VA',\n",
       "       'The Villages, FL', 'Twin Falls, ID', 'Valdosta, GA',\n",
       "       'Warner Robins, GA', 'Winchester, VA-WV', 'Worcester, MA'],\n",
       "      dtype=object)"
      ]
     },
     "execution_count": 18,
     "metadata": {},
     "output_type": "execute_result"
    }
   ],
   "source": [
    "metro_exports_all[metro_exports_all[\"Manufacturing_Employment\"].isnull()][\"MSA\"].unique()"
   ]
  },
  {
   "cell_type": "code",
   "execution_count": 19,
   "id": "11b48103-c4d1-472c-a298-fb96b2ea7959",
   "metadata": {},
   "outputs": [
    {
     "data": {
      "text/plain": [
       "MSA\n",
       "Albany, GA            6\n",
       "Alexandria, LA       19\n",
       "Ames, IA             19\n",
       "Anderson, IN          8\n",
       "Anderson, SC          8\n",
       "                     ..\n",
       "Twin Falls, ID        7\n",
       "Valdosta, GA         19\n",
       "Warner Robins, GA    19\n",
       "Winchester, VA-WV    19\n",
       "Worcester, MA        19\n",
       "Name: Manufacturing_Employment, Length: 75, dtype: int64"
      ]
     },
     "execution_count": 19,
     "metadata": {},
     "output_type": "execute_result"
    }
   ],
   "source": [
    "manu_null_1 = metro_exports_all.groupby(\"MSA\")[\"Manufacturing_Employment\"].agg(lambda x: x.isnull().sum())\n",
    "manu_null_1[manu_null_1 > 0]"
   ]
  },
  {
   "cell_type": "code",
   "execution_count": 20,
   "id": "4ec6dceb-fd53-4f1a-8b1e-5a164a4e681b",
   "metadata": {},
   "outputs": [
    {
     "data": {
      "text/plain": [
       "Year\n",
       "2005    55\n",
       "2006    56\n",
       "2007    56\n",
       "2008    56\n",
       "2009    59\n",
       "2010    58\n",
       "2011    57\n",
       "2012    57\n",
       "2013    64\n",
       "2014    64\n",
       "2015    64\n",
       "2016    65\n",
       "2017    65\n",
       "2018    67\n",
       "2019    67\n",
       "2020    68\n",
       "2021    67\n",
       "2022    67\n",
       "2023    61\n",
       "Name: Manufacturing_Employment, dtype: int64"
      ]
     },
     "execution_count": 20,
     "metadata": {},
     "output_type": "execute_result"
    }
   ],
   "source": [
    "manu_null_2 = metro_exports_all.groupby(\"Year\")[\"Manufacturing_Employment\"].agg(lambda x: x.isnull().sum())\n",
    "manu_null_2[manu_null_2 > 0]"
   ]
  },
  {
   "cell_type": "markdown",
   "id": "6066fbc0-1b81-4531-a50a-ea77d3b94495",
   "metadata": {},
   "source": [
    "When it comes to the weather, all metro areas in the contiguous United States are covered. We are only missing Alaska and Hawaii, which are not covered by our data. Alaska and Hawaii would also potentially outliers on other fronts due to their geography causing extreme cold and isolation as an island, respectively. We will drop Alaska and Hawaii from our dataset."
   ]
  },
  {
   "cell_type": "code",
   "execution_count": 21,
   "id": "fdd537c5-bb52-4daa-8451-bfbc4d50f39d",
   "metadata": {},
   "outputs": [
    {
     "data": {
      "text/plain": [
       "array(['Anchorage, AK', 'Fairbanks-College, AK', 'Kahului-Wailuku, HI',\n",
       "       'Urban Honolulu, HI'], dtype=object)"
      ]
     },
     "execution_count": 21,
     "metadata": {},
     "output_type": "execute_result"
    }
   ],
   "source": [
    "akhi = metro_exports_all[metro_exports_all[\"Jan_avg_temp\"].isnull()][\"MSA\"].unique()\n",
    "metro_exports_all[metro_exports_all[\"Jan_avg_temp\"].isnull()][\"MSA\"].unique()"
   ]
  },
  {
   "cell_type": "code",
   "execution_count": 22,
   "id": "6ef833ce-9fc0-4b22-9279-911cee132120",
   "metadata": {},
   "outputs": [],
   "source": [
    "metro_exports_all = metro_exports_all.set_index(\"MSA\")\n",
    "metro_exports_all = metro_exports_all.drop(labels = akhi, axis = 0)\n",
    "metro_exports_all = metro_exports_all.reset_index()\n",
    "metro_exports_all = metro_exports_all.rename_axis(None, axis=1)"
   ]
  },
  {
   "cell_type": "markdown",
   "id": "f39733fc-612b-4000-8801-b4ab5dcc4a5f",
   "metadata": {},
   "source": [
    "For our State Policy Variables, we see overall that the Corporate Income Tax Rate has a lot of missing values. However, when importing, we know that our initial dataset was missing the year 2009. There are no missing values outside that. So, let's fill out 2009 null values with the 2008 values, since it's unlikely major tax policy changes were made during an election year to be effective in 2009. "
   ]
  },
  {
   "cell_type": "code",
   "execution_count": 23,
   "id": "8be0f7c8-4986-4c83-8b8d-74b73a562ac4",
   "metadata": {},
   "outputs": [
    {
     "data": {
      "text/plain": [
       "array([], dtype=object)"
      ]
     },
     "execution_count": 23,
     "metadata": {},
     "output_type": "execute_result"
    }
   ],
   "source": [
    "metro_exports_all[(metro_exports_all[\"Year\"] != 2009) & (metro_exports_all[\"Top_Corporate_Income_Tax_Rate\"].isnull())][\"MSA\"].unique()"
   ]
  },
  {
   "cell_type": "code",
   "execution_count": 24,
   "id": "bc0e8b6f-4a07-405d-9873-b699aece6dfd",
   "metadata": {},
   "outputs": [],
   "source": [
    "metro_exports_all = metro_exports_all.set_index([\"MSA\", \"Year\"])\n",
    "metro_exports_all[\"Top_Corporate_Income_Tax_Rate\"] = metro_exports_all[\"Top_Corporate_Income_Tax_Rate\"].ffill()"
   ]
  },
  {
   "cell_type": "code",
   "execution_count": 25,
   "id": "ffeb68e8-637b-4762-a9ab-41e4c4e0f618",
   "metadata": {},
   "outputs": [],
   "source": [
    "#metro_exports_all[\"Top_Corporate_Income_Tax_Rate\"].head(n =35)"
   ]
  },
  {
   "cell_type": "markdown",
   "id": "157927f4-4248-4d92-9722-4aaf8fcd5d55",
   "metadata": {},
   "source": [
    "Similarly the other policy variables are filled in for every year, except 2023, because the most recent publication of the Freedom of States Index is for 2022. So, we can use the same process to fill in our 2023 data with the 2022 values."
   ]
  },
  {
   "cell_type": "code",
   "execution_count": 26,
   "id": "7a2467aa-172d-4fca-ac4a-751c4ba0eecd",
   "metadata": {},
   "outputs": [],
   "source": [
    "#metro_exports_all[(metro_exports_all[\"Year\"] != 2023) & (metro_exports_all[\"Policy_Right-to-Work\"].isnull())][\"MSA\"].unique()"
   ]
  },
  {
   "cell_type": "code",
   "execution_count": 27,
   "id": "fdb777ca-88d5-42e2-84c3-344415e177b0",
   "metadata": {},
   "outputs": [],
   "source": [
    "metro_exports_all[\"Policy_Right-to-Work\"] = metro_exports_all[\"Policy_Right-to-Work\"].ffill()\n",
    "metro_exports_all[\"Policy_Urban_Growth_Boundary\"] = metro_exports_all[\"Policy_Urban_Growth_Boundary\"].ffill()\n",
    "metro_exports_all[\"Policy_Pricing_Strategy_Ban\"] = metro_exports_all[\"Policy_Pricing_Strategy_Ban\"].ffill()\n",
    "metro_exports_all[\"Policy_Anti-Price_Gouging\"] = metro_exports_all[\"Policy_Anti-Price_Gouging\"].ffill()"
   ]
  },
  {
   "cell_type": "code",
   "execution_count": 28,
   "id": "1da1b097-800c-4ce0-918a-1c6feee34719",
   "metadata": {},
   "outputs": [],
   "source": [
    "metro_exports_all = metro_exports_all.reset_index()\n",
    "metro_exports_all = metro_exports_all.rename_axis(None, axis=1)"
   ]
  },
  {
   "cell_type": "markdown",
   "id": "f7039d9a-87d8-4bca-b7fc-e684cd2e0f61",
   "metadata": {},
   "source": [
    "## Feature Engineering\n",
    "We will create a few derived features including\n",
    "* energy_consumption - sum of `month_cooling` and `month_heating` for the year\n",
    "* avg_cooling - average of all `month_cooling` for the year\n",
    "* avg_heating - average of all `month_heating` for the year\n",
    "* avg_weather - average of all 12 months of `avg_temp`\n",
    "* winter_weather - average of `Jan_avg_temp`, `Feb_avg_temp`, `Mar_avg_temp`\n",
    "* summer_weather - average of `Jun_avg_temp`, `Jul_avg_temp`, `Aug_avg_temp`\n",
    "* FHFA_housing - average of the four quarters `FHFA_index`"
   ]
  },
  {
   "cell_type": "code",
   "execution_count": 29,
   "id": "0b948233-732d-41e1-8232-3d20bacd83f3",
   "metadata": {},
   "outputs": [
    {
     "data": {
      "text/plain": [
       "0        0.0\n",
       "1       20.0\n",
       "2        0.0\n",
       "3       18.0\n",
       "4       16.0\n",
       "        ... \n",
       "6983     0.0\n",
       "6984     0.0\n",
       "6985     0.0\n",
       "6986     0.0\n",
       "6987     0.0\n",
       "Name: Sep_heating, Length: 6988, dtype: float64"
      ]
     },
     "execution_count": 29,
     "metadata": {},
     "output_type": "execute_result"
    }
   ],
   "source": [
    "metro_exports_all.iloc[:,47]"
   ]
  },
  {
   "cell_type": "code",
   "execution_count": 30,
   "id": "44a6d48e-9f73-4c81-94ce-d02214b7b7c5",
   "metadata": {},
   "outputs": [
    {
     "data": {
      "text/plain": [
       "0       4825.0\n",
       "1       4865.0\n",
       "2       4895.0\n",
       "3       4893.0\n",
       "4       4892.0\n",
       "         ...  \n",
       "6983    5243.0\n",
       "6984    5679.0\n",
       "6985    5399.0\n",
       "6986    5633.0\n",
       "6987    5374.0\n",
       "Name: energy_consumption, Length: 6988, dtype: float64"
      ]
     },
     "execution_count": 30,
     "metadata": {},
     "output_type": "execute_result"
    }
   ],
   "source": [
    "cols = list(range(27,51))\n",
    "metro_exports_all[\"energy_consumption\"] = metro_exports_all.iloc[:, cols].sum(axis = 1)\n",
    "\n",
    "cols = list(range(27,39))\n",
    "metro_exports_all[\"avg_cooling\"] = metro_exports_all.iloc[:, cols].sum(axis = 1)\n",
    "\n",
    "cols = list(range(39,51))\n",
    "metro_exports_all[\"avg_heating\"] = metro_exports_all.iloc[:, cols].sum(axis = 1)\n",
    "\n",
    "metro_exports_all[\"energy_consumption\"]"
   ]
  },
  {
   "cell_type": "code",
   "execution_count": 31,
   "id": "c7b3dc87-72d8-49a8-960d-3f5d9603d070",
   "metadata": {},
   "outputs": [
    {
     "data": {
      "text/plain": [
       "0       63.350000\n",
       "1       65.133333\n",
       "2       62.158333\n",
       "3       63.275000\n",
       "4       63.175000\n",
       "          ...    \n",
       "6983    71.625000\n",
       "6984    73.666667\n",
       "6985    73.833333\n",
       "6986    73.191667\n",
       "6987    72.433333\n",
       "Name: avg_weather, Length: 6988, dtype: float64"
      ]
     },
     "execution_count": 31,
     "metadata": {},
     "output_type": "execute_result"
    }
   ],
   "source": [
    "cols = list(range(15,27))\n",
    "metro_exports_all[\"avg_weather\"] = metro_exports_all.iloc[:, cols].mean(axis = 1)\n",
    "metro_exports_all[\"avg_weather\"]"
   ]
  },
  {
   "cell_type": "code",
   "execution_count": 32,
   "id": "efdb39d7-7acb-4c25-b2cb-b403cc536aaa",
   "metadata": {},
   "outputs": [
    {
     "data": {
      "text/plain": [
       "0       48.866667\n",
       "1       51.366667\n",
       "2       47.433333\n",
       "3       48.600000\n",
       "4       50.966667\n",
       "          ...    \n",
       "6983    56.233333\n",
       "6984    57.466667\n",
       "6985    57.933333\n",
       "6986    59.033333\n",
       "6987    55.533333\n",
       "Name: winter_weather, Length: 6988, dtype: float64"
      ]
     },
     "execution_count": 32,
     "metadata": {},
     "output_type": "execute_result"
    }
   ],
   "source": [
    "cols = list(range(15,18))\n",
    "metro_exports_all[\"winter_weather\"] = metro_exports_all.iloc[:, cols].mean(axis = 1)\n",
    "metro_exports_all[\"winter_weather\"]"
   ]
  },
  {
   "cell_type": "code",
   "execution_count": 33,
   "id": "bc83b6b7-7fc1-4fca-b274-a9c6dad04d8e",
   "metadata": {},
   "outputs": [
    {
     "data": {
      "text/plain": [
       "0       80.400000\n",
       "1       83.433333\n",
       "2       78.666667\n",
       "3       81.833333\n",
       "4       82.166667\n",
       "          ...    \n",
       "6983    91.000000\n",
       "6984    92.366667\n",
       "6985    92.366667\n",
       "6986    92.000000\n",
       "6987    91.000000\n",
       "Name: summer_weather, Length: 6988, dtype: float64"
      ]
     },
     "execution_count": 33,
     "metadata": {},
     "output_type": "execute_result"
    }
   ],
   "source": [
    "cols = list(range(20,23))\n",
    "metro_exports_all[\"summer_weather\"] = metro_exports_all.iloc[:, cols].mean(axis = 1)\n",
    "metro_exports_all[\"summer_weather\"]"
   ]
  },
  {
   "cell_type": "code",
   "execution_count": 34,
   "id": "41f47c0f-a824-414a-840f-bf54957ea56a",
   "metadata": {},
   "outputs": [
    {
     "data": {
      "text/plain": [
       "0       141.6100\n",
       "1       153.6775\n",
       "2       162.9025\n",
       "3       166.1000\n",
       "4       169.7750\n",
       "          ...   \n",
       "6983    193.9450\n",
       "6984    207.7200\n",
       "6985    249.5950\n",
       "6986    303.0200\n",
       "6987    316.3150\n",
       "Name: FHFA_index, Length: 6988, dtype: float64"
      ]
     },
     "execution_count": 34,
     "metadata": {},
     "output_type": "execute_result"
    }
   ],
   "source": [
    "cols = list(range(6,10))\n",
    "metro_exports_all[\"FHFA_index\"] = metro_exports_all.iloc[:, cols].mean(axis = 1)\n",
    "metro_exports_all[\"FHFA_index\"]"
   ]
  },
  {
   "cell_type": "markdown",
   "id": "56a99270-d342-4cf9-a41e-02b89d9a6a3c",
   "metadata": {},
   "source": [
    "Thanks to the feature engineering above, we can drop the individual NOAA and FHFA columns."
   ]
  },
  {
   "cell_type": "code",
   "execution_count": 35,
   "id": "7d66ca2c-7522-4a5f-bca4-354b50d48641",
   "metadata": {},
   "outputs": [],
   "source": [
    "metro_exports_all = metro_exports_all.drop(['FHFA_index_Q1', 'FHFA_index_Q2', 'FHFA_index_Q3', 'FHFA_index_Q4', \n",
    "                                            'Jan_avg_temp', 'Feb_avg_temp', 'Mar_avg_temp', 'Apr_avg_temp', \n",
    "                                            'May_avg_temp', 'Jun_avg_temp', 'Jul_avg_temp', 'Aug_avg_temp', \n",
    "                                            'Sep_avg_temp', 'Oct_avg_temp', 'Nov_avg_temp', 'Dec_avg_temp', \n",
    "                                            'Jan_cooling', 'Feb_cooling', 'Mar_cooling', 'Apr_cooling', \n",
    "                                            'May_cooling', 'Jun_cooling', 'Jul_cooling', 'Aug_cooling', \n",
    "                                            'Sep_cooling', 'Oct_cooling', 'Nov_cooling', 'Dec_cooling', \n",
    "                                            'Jan_heating', 'Feb_heating', 'Mar_heating', 'Apr_heating', \n",
    "                                            'May_heating', 'Jun_heating', 'Jul_heating', 'Aug_heating', \n",
    "                                            'Sep_heating', 'Oct_heating', 'Nov_heating', 'Dec_heating'], axis = 1)"
   ]
  },
  {
   "cell_type": "code",
   "execution_count": 36,
   "id": "f717c37f-3543-44c3-bfbd-89d924e36b34",
   "metadata": {},
   "outputs": [
    {
     "data": {
      "text/plain": [
       "Index(['MSA', 'Year', 'exports', 'Per_Capita_Income', 'Personal_Income',\n",
       "       'Population', 'Employment', 'Labor_Force', 'Unemployment_Rate',\n",
       "       'Unemployment_Raw', 'Manufacturing_Employment',\n",
       "       'Top_Corporate_Income_Tax_Rate', 'Policy_Right-to-Work',\n",
       "       'Policy_Urban_Growth_Boundary', 'Policy_Pricing_Strategy_Ban',\n",
       "       'Policy_Anti-Price_Gouging', 'Minimum_Wage', 'USD_to_Euro',\n",
       "       'USD_to_Pound', 'USD_to_Peso', 'USD_to_Yuan', 'USD_to_Yen',\n",
       "       'S&P500_Average', 'S&P500_Close', 'DJIA_close', 'energy_consumption',\n",
       "       'avg_cooling', 'avg_heating', 'avg_weather', 'winter_weather',\n",
       "       'summer_weather', 'FHFA_index'],\n",
       "      dtype='object')"
      ]
     },
     "execution_count": 36,
     "metadata": {},
     "output_type": "execute_result"
    }
   ],
   "source": [
    "metro_exports_all.columns"
   ]
  },
  {
   "cell_type": "markdown",
   "id": "f046524e-7c63-4eaf-bb08-308833c6bd27",
   "metadata": {},
   "source": [
    "## Final Null Elimination\n",
    "Now, as we review our values that remain, we will create two dataframes: `metro_exports_all` that will include more rows, but exclude the BLS columns--other than the Unemployment Rate--and drop the rows with missing values for the BEA data and `metro_exports_all_features` that will include all columns, but only those without missing values. "
   ]
  },
  {
   "cell_type": "code",
   "execution_count": 37,
   "id": "d772460f-ef50-4f6f-9b3d-a437b27a5ebd",
   "metadata": {},
   "outputs": [
    {
     "name": "stdout",
     "output_type": "stream",
     "text": [
      "<class 'pandas.core.frame.DataFrame'>\n",
      "RangeIndex: 6988 entries, 0 to 6987\n",
      "Data columns (total 32 columns):\n",
      " #   Column                         Non-Null Count  Dtype  \n",
      "---  ------                         --------------  -----  \n",
      " 0   MSA                            6988 non-null   object \n",
      " 1   Year                           6988 non-null   int64  \n",
      " 2   exports                        6988 non-null   float64\n",
      " 3   Per_Capita_Income              6935 non-null   float64\n",
      " 4   Personal_Income                6935 non-null   float64\n",
      " 5   Population                     6935 non-null   float64\n",
      " 6   Employment                     6761 non-null   float64\n",
      " 7   Labor_Force                    6761 non-null   float64\n",
      " 8   Unemployment_Rate              6988 non-null   float64\n",
      " 9   Unemployment_Raw               6761 non-null   float64\n",
      " 10  Manufacturing_Employment       5815 non-null   float64\n",
      " 11  Top_Corporate_Income_Tax_Rate  6988 non-null   float64\n",
      " 12  Policy_Right-to-Work           6988 non-null   float64\n",
      " 13  Policy_Urban_Growth_Boundary   6988 non-null   float64\n",
      " 14  Policy_Pricing_Strategy_Ban    6988 non-null   float64\n",
      " 15  Policy_Anti-Price_Gouging      6988 non-null   float64\n",
      " 16  Minimum_Wage                   6988 non-null   float64\n",
      " 17  USD_to_Euro                    6988 non-null   float64\n",
      " 18  USD_to_Pound                   6988 non-null   float64\n",
      " 19  USD_to_Peso                    6988 non-null   float64\n",
      " 20  USD_to_Yuan                    6988 non-null   float64\n",
      " 21  USD_to_Yen                     6988 non-null   float64\n",
      " 22  S&P500_Average                 6988 non-null   float64\n",
      " 23  S&P500_Close                   6988 non-null   float64\n",
      " 24  DJIA_close                     6988 non-null   float64\n",
      " 25  energy_consumption             6988 non-null   float64\n",
      " 26  avg_cooling                    6988 non-null   float64\n",
      " 27  avg_heating                    6988 non-null   float64\n",
      " 28  avg_weather                    6988 non-null   float64\n",
      " 29  winter_weather                 6988 non-null   float64\n",
      " 30  summer_weather                 6988 non-null   float64\n",
      " 31  FHFA_index                     6939 non-null   float64\n",
      "dtypes: float64(30), int64(1), object(1)\n",
      "memory usage: 1.7+ MB\n"
     ]
    }
   ],
   "source": [
    "metro_exports_all.info()"
   ]
  },
  {
   "cell_type": "code",
   "execution_count": 38,
   "id": "9051c3f5-ef17-4540-958f-45145ffab678",
   "metadata": {},
   "outputs": [],
   "source": [
    "metro_exports_all_features = metro_exports_all.copy()\n",
    "metro_exports_all_features = metro_exports_all_features.dropna(axis = 0)\n",
    "\n",
    "metro_exports_all = metro_exports_all.drop([\"Employment\", \"Labor_Force\", \"Unemployment_Raw\", \"Manufacturing_Employment\"], axis = 1)\n",
    "metro_exports_all = metro_exports_all.dropna(axis = 0)"
   ]
  },
  {
   "cell_type": "code",
   "execution_count": 39,
   "id": "20026f6f-f614-4de4-9b57-47a73528eb19",
   "metadata": {},
   "outputs": [
    {
     "name": "stdout",
     "output_type": "stream",
     "text": [
      "<class 'pandas.core.frame.DataFrame'>\n",
      "Index: 6887 entries, 0 to 6987\n",
      "Data columns (total 28 columns):\n",
      " #   Column                         Non-Null Count  Dtype  \n",
      "---  ------                         --------------  -----  \n",
      " 0   MSA                            6887 non-null   object \n",
      " 1   Year                           6887 non-null   int64  \n",
      " 2   exports                        6887 non-null   float64\n",
      " 3   Per_Capita_Income              6887 non-null   float64\n",
      " 4   Personal_Income                6887 non-null   float64\n",
      " 5   Population                     6887 non-null   float64\n",
      " 6   Unemployment_Rate              6887 non-null   float64\n",
      " 7   Top_Corporate_Income_Tax_Rate  6887 non-null   float64\n",
      " 8   Policy_Right-to-Work           6887 non-null   float64\n",
      " 9   Policy_Urban_Growth_Boundary   6887 non-null   float64\n",
      " 10  Policy_Pricing_Strategy_Ban    6887 non-null   float64\n",
      " 11  Policy_Anti-Price_Gouging      6887 non-null   float64\n",
      " 12  Minimum_Wage                   6887 non-null   float64\n",
      " 13  USD_to_Euro                    6887 non-null   float64\n",
      " 14  USD_to_Pound                   6887 non-null   float64\n",
      " 15  USD_to_Peso                    6887 non-null   float64\n",
      " 16  USD_to_Yuan                    6887 non-null   float64\n",
      " 17  USD_to_Yen                     6887 non-null   float64\n",
      " 18  S&P500_Average                 6887 non-null   float64\n",
      " 19  S&P500_Close                   6887 non-null   float64\n",
      " 20  DJIA_close                     6887 non-null   float64\n",
      " 21  energy_consumption             6887 non-null   float64\n",
      " 22  avg_cooling                    6887 non-null   float64\n",
      " 23  avg_heating                    6887 non-null   float64\n",
      " 24  avg_weather                    6887 non-null   float64\n",
      " 25  winter_weather                 6887 non-null   float64\n",
      " 26  summer_weather                 6887 non-null   float64\n",
      " 27  FHFA_index                     6887 non-null   float64\n",
      "dtypes: float64(26), int64(1), object(1)\n",
      "memory usage: 1.5+ MB\n"
     ]
    }
   ],
   "source": [
    "metro_exports_all.info()"
   ]
  },
  {
   "cell_type": "code",
   "execution_count": 40,
   "id": "f0118cd0-78bb-439c-84ac-8fcb8c02ec86",
   "metadata": {},
   "outputs": [
    {
     "name": "stdout",
     "output_type": "stream",
     "text": [
      "<class 'pandas.core.frame.DataFrame'>\n",
      "Index: 5746 entries, 0 to 6987\n",
      "Data columns (total 32 columns):\n",
      " #   Column                         Non-Null Count  Dtype  \n",
      "---  ------                         --------------  -----  \n",
      " 0   MSA                            5746 non-null   object \n",
      " 1   Year                           5746 non-null   int64  \n",
      " 2   exports                        5746 non-null   float64\n",
      " 3   Per_Capita_Income              5746 non-null   float64\n",
      " 4   Personal_Income                5746 non-null   float64\n",
      " 5   Population                     5746 non-null   float64\n",
      " 6   Employment                     5746 non-null   float64\n",
      " 7   Labor_Force                    5746 non-null   float64\n",
      " 8   Unemployment_Rate              5746 non-null   float64\n",
      " 9   Unemployment_Raw               5746 non-null   float64\n",
      " 10  Manufacturing_Employment       5746 non-null   float64\n",
      " 11  Top_Corporate_Income_Tax_Rate  5746 non-null   float64\n",
      " 12  Policy_Right-to-Work           5746 non-null   float64\n",
      " 13  Policy_Urban_Growth_Boundary   5746 non-null   float64\n",
      " 14  Policy_Pricing_Strategy_Ban    5746 non-null   float64\n",
      " 15  Policy_Anti-Price_Gouging      5746 non-null   float64\n",
      " 16  Minimum_Wage                   5746 non-null   float64\n",
      " 17  USD_to_Euro                    5746 non-null   float64\n",
      " 18  USD_to_Pound                   5746 non-null   float64\n",
      " 19  USD_to_Peso                    5746 non-null   float64\n",
      " 20  USD_to_Yuan                    5746 non-null   float64\n",
      " 21  USD_to_Yen                     5746 non-null   float64\n",
      " 22  S&P500_Average                 5746 non-null   float64\n",
      " 23  S&P500_Close                   5746 non-null   float64\n",
      " 24  DJIA_close                     5746 non-null   float64\n",
      " 25  energy_consumption             5746 non-null   float64\n",
      " 26  avg_cooling                    5746 non-null   float64\n",
      " 27  avg_heating                    5746 non-null   float64\n",
      " 28  avg_weather                    5746 non-null   float64\n",
      " 29  winter_weather                 5746 non-null   float64\n",
      " 30  summer_weather                 5746 non-null   float64\n",
      " 31  FHFA_index                     5746 non-null   float64\n",
      "dtypes: float64(30), int64(1), object(1)\n",
      "memory usage: 1.4+ MB\n"
     ]
    }
   ],
   "source": [
    "metro_exports_all_features.info()"
   ]
  },
  {
   "cell_type": "markdown",
   "id": "f7bb05ac-100c-4f96-adb2-8c48c68c5773",
   "metadata": {},
   "source": [
    "## Export\n",
    "We will export both dataframes for future use."
   ]
  },
  {
   "cell_type": "code",
   "execution_count": 41,
   "id": "d78d09a6-4a04-4412-869d-abe865a5c79f",
   "metadata": {},
   "outputs": [],
   "source": [
    "metro_exports_all.to_csv('cleaned_metro_exports.csv', index=False)\n",
    "metro_exports_all_features.to_csv('cleaned_metro_exports_all_features.csv', index=False)"
   ]
  }
 ],
 "metadata": {
  "kernelspec": {
   "display_name": "Python 3 (ipykernel)",
   "language": "python",
   "name": "python3"
  },
  "language_info": {
   "codemirror_mode": {
    "name": "ipython",
    "version": 3
   },
   "file_extension": ".py",
   "mimetype": "text/x-python",
   "name": "python",
   "nbconvert_exporter": "python",
   "pygments_lexer": "ipython3",
   "version": "3.12.6"
  }
 },
 "nbformat": 4,
 "nbformat_minor": 5
}
